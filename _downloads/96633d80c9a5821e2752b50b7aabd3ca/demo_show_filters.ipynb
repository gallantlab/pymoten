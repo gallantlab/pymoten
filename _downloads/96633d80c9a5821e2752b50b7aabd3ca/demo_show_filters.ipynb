{
  "cells": [
    {
      "cell_type": "code",
      "execution_count": null,
      "metadata": {
        "collapsed": false
      },
      "outputs": [],
      "source": [
        "%matplotlib inline"
      ]
    },
    {
      "cell_type": "markdown",
      "metadata": {},
      "source": [
        "\n#  Visualizing spatio-temporal Gabor filters\n\n\nThis example demonstrates how to display a motion-energy filter from the pyramid.\n"
      ]
    },
    {
      "cell_type": "code",
      "execution_count": null,
      "metadata": {
        "collapsed": false
      },
      "outputs": [],
      "source": [
        "import moten\n\npyramid = moten.pyramids.MotionEnergyPyramid(stimulus_vhsize=(768, 1024),\n                                             stimulus_fps=24,\n                                             filter_temporal_width=16)\nanimation = pyramid.show_filter(1337)"
      ]
    },
    {
      "cell_type": "markdown",
      "metadata": {},
      "source": [
        "The animation should look like this:\n\n.. raw:: html\n\n   <video width=100% height=100% autoplay=True loop=True controls>\n    <source src=\"../../_downloads/vid.mp4\" type=\"video/mp4\">\n   </video>\n\n"
      ]
    },
    {
      "cell_type": "markdown",
      "metadata": {},
      "source": [
        "These are the filter parameters:\n\n"
      ]
    },
    {
      "cell_type": "code",
      "execution_count": null,
      "metadata": {
        "collapsed": false
      },
      "outputs": [],
      "source": [
        "from pprint import pprint\nfilter_parameters = pyramid.filters[1337]\npprint(filter_parameters)"
      ]
    },
    {
      "cell_type": "markdown",
      "metadata": {},
      "source": [
        "(*Ignore. This code is needed to convert animation to MP4 and adding it to the gallery*)\n\n"
      ]
    },
    {
      "cell_type": "code",
      "execution_count": null,
      "metadata": {
        "collapsed": false
      },
      "outputs": [],
      "source": [
        "output = '../../docs/build/html/_downloads/vid.mp4'\nfig = animation._fig\nfig.suptitle('Example filter:\\ndirection of motion=180, spatial fq=16cpi, temporal fq=4Hz')\nanimation.save(output)\nfig.clf()\ndel(fig)\n\n\n# sphinx_gallery_thumbnail_number = 2\nimport matplotlib.pyplot as plt\nspatial_component = pyramid.get_filter_spatial_quadrature(1337)[1]\nfig, ax = plt.subplots()\nax.matshow(spatial_component, vmin=-1, vmax=1, cmap='coolwarm')\nax.set_xticks([])\nax.set_yticks([])"
      ]
    }
  ],
  "metadata": {
    "kernelspec": {
      "display_name": "Python 3",
      "language": "python",
      "name": "python3"
    },
    "language_info": {
      "codemirror_mode": {
        "name": "ipython",
        "version": 3
      },
      "file_extension": ".py",
      "mimetype": "text/x-python",
      "name": "python",
      "nbconvert_exporter": "python",
      "pygments_lexer": "ipython3",
      "version": "3.7.1"
    }
  },
  "nbformat": 4,
  "nbformat_minor": 0
}