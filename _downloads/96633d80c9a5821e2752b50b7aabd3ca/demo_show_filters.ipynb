{
  "cells": [
    {
      "cell_type": "code",
      "execution_count": null,
      "metadata": {
        "collapsed": false
      },
      "outputs": [],
      "source": [
        "%matplotlib inline"
      ]
    },
    {
      "cell_type": "markdown",
      "metadata": {},
      "source": [
        "\n# Visualizing the motion energy filters\n\nThis example demonstrates how to display a motion energy filter from the pyramid.\n"
      ]
    },
    {
      "cell_type": "code",
      "execution_count": null,
      "metadata": {
        "collapsed": false
      },
      "outputs": [],
      "source": [
        "import moten\n\npyramid = moten.pyramids.MotionEnergyPyramid(stimulus_vhsize=(768, 1024),\n                                             stimulus_fps=24)\nanimation = pyramid.show_filter(1337)"
      ]
    },
    {
      "cell_type": "markdown",
      "metadata": {},
      "source": [
        "The animation should look something like this:\n\n.. raw:: html\n\n   <video width=100% height=100% preload=auto autoplay loop muted controls>\n    <source src=\"../../_downloads/example_moten_filter.mp4\" type=\"video/mp4\">\n   </video>\n\n"
      ]
    },
    {
      "cell_type": "markdown",
      "metadata": {},
      "source": [
        "These are the filter parameters:\n\n"
      ]
    },
    {
      "cell_type": "code",
      "execution_count": null,
      "metadata": {
        "collapsed": false
      },
      "outputs": [],
      "source": [
        "from pprint import pprint\npprint(pyramid.filters[1337])"
      ]
    },
    {
      "cell_type": "markdown",
      "metadata": {},
      "source": [
        "(*Ignore this code block. It is needed to display the animation as a video on this website*)\n\n"
      ]
    },
    {
      "cell_type": "code",
      "execution_count": null,
      "metadata": {
        "collapsed": false
      },
      "outputs": [],
      "source": [
        "output = '../../docs/build/html/_downloads/example_moten_filter.mp4'\nfig = animation._fig\ntitle = 'Example filter:\\ndirection of motion=180, spatial fq=16cpi, temporal fq=4Hz'\nfig.suptitle(title)\nanimation.save(output)\n\n# sphinx_gallery_thumbnail_number = 2\nimport matplotlib.pyplot as plt\nspatial_component = pyramid.get_filter_spatial_quadrature(1337)[1]\nfig, ax = plt.subplots()\nax.matshow(spatial_component, vmin=-1, vmax=1, cmap='coolwarm')\n__ = ax.set_xticks([])\n__ = ax.set_yticks([])"
      ]
    }
  ],
  "metadata": {
    "kernelspec": {
      "display_name": "Python 3",
      "language": "python",
      "name": "python3"
    },
    "language_info": {
      "codemirror_mode": {
        "name": "ipython",
        "version": 3
      },
      "file_extension": ".py",
      "mimetype": "text/x-python",
      "name": "python",
      "nbconvert_exporter": "python",
      "pygments_lexer": "ipython3",
      "version": "3.7.1"
    }
  },
  "nbformat": 4,
  "nbformat_minor": 0
}