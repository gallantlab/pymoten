{
  "cells": [
    {
      "cell_type": "code",
      "execution_count": null,
      "metadata": {
        "collapsed": false
      },
      "outputs": [],
      "source": [
        "%matplotlib inline"
      ]
    },
    {
      "cell_type": "markdown",
      "metadata": {},
      "source": [
        "\n# Spatial components of the motion energy filters\n\n\nThis example shows the spatial components of the spatio-temporal filters used\nin motion energy features. It does not show the temporal components, since this\ngallery does not support animation. To visualize the filters with their\ntemporal components, you can use :func:`moten.viz.plot_3dgabor`.\nHere we demonstrate how the spatial filters vary in term of spatial\nfrequencies, locations, and directions.\n"
      ]
    },
    {
      "cell_type": "markdown",
      "metadata": {},
      "source": [
        "First, let's define a motion energy pyramid, using :class:`MotionEnergyPyramid`.\nIt defines a set of spatio-temporal Gabor filters.\n\n"
      ]
    },
    {
      "cell_type": "code",
      "execution_count": null,
      "metadata": {
        "collapsed": false
      },
      "outputs": [],
      "source": [
        "import moten\npyramid = moten.pyramids.MotionEnergyPyramid(stimulus_vhsize=(300, 400),\n                                             stimulus_fps=25)"
      ]
    },
    {
      "cell_type": "markdown",
      "metadata": {},
      "source": [
        "Then, we define a plotting function, to show the spatial part of these\nspatio-temporal Gabor filters.\n\n"
      ]
    },
    {
      "cell_type": "code",
      "execution_count": null,
      "metadata": {
        "collapsed": false
      },
      "outputs": [],
      "source": [
        "import matplotlib.pyplot as plt  # noqa\n\n\ndef plot_spatial_gabors(pyramid, indices):\n    \"\"\"Plot the two quadrature spatial components of a list of Gabor filters.\n\n    Note this only show the spatial components of the spatio-temporal filters.\n\n    Parameters\n    ----------\n    pyramid : moten.pyramid.MotionEnergyPyramid instance\n    indices : list of int\n    \"\"\"\n    vdim = pyramid.definition['vdim']\n\n    size = 0.6\n    fig, axs = plt.subplots(\n        2, len(indices), figsize=((len(indices) * 4.25 + 0.25) * size,\n                                  7.5 * size), squeeze=False,\n        sharex=True, sharey=True)\n\n    axs.T[0][0].set_ylabel('spatial Gabor (cos)')\n    axs.T[0][1].set_ylabel('spatial Gabor (sin)')\n\n    for ii, axs_ in zip(indices, axs.T):\n\n        spatial_sin, spatial_cos = pyramid.get_filter_spatial_quadrature(ii)\n        axs_[0].imshow(spatial_cos, aspect='equal')\n        axs_[1].imshow(spatial_sin, aspect='equal')\n        axs_[0].set_title('filter %d' % ii)\n\n        gabor = pyramid.filters[ii]\n        for ax in axs_:\n            ax.scatter(gabor['centerh'] * vdim, gabor['centerv'] * vdim,\n                       color='k', marker='+')\n            ax.set_xticks([])\n            ax.set_yticks([])\n\n    plt.tight_layout()"
      ]
    },
    {
      "cell_type": "markdown",
      "metadata": {},
      "source": [
        "Different spatial frequencies\n=============================\n\n"
      ]
    },
    {
      "cell_type": "code",
      "execution_count": null,
      "metadata": {
        "collapsed": false
      },
      "outputs": [],
      "source": [
        "plot_spatial_gabors(pyramid, [0, 23, 88, 577])"
      ]
    },
    {
      "cell_type": "markdown",
      "metadata": {},
      "source": [
        "Different locations\n===================\n\n"
      ]
    },
    {
      "cell_type": "code",
      "execution_count": null,
      "metadata": {
        "collapsed": false
      },
      "outputs": [],
      "source": [
        "plot_spatial_gabors(pyramid, [46, 52, 58, 64])"
      ]
    },
    {
      "cell_type": "markdown",
      "metadata": {},
      "source": [
        "Different directions\n====================\n\n"
      ]
    },
    {
      "cell_type": "code",
      "execution_count": null,
      "metadata": {
        "collapsed": false
      },
      "outputs": [],
      "source": [
        "plot_spatial_gabors(pyramid, [88, 157, 202, 247])"
      ]
    }
  ],
  "metadata": {
    "kernelspec": {
      "display_name": "Python 3",
      "language": "python",
      "name": "python3"
    },
    "language_info": {
      "codemirror_mode": {
        "name": "ipython",
        "version": 3
      },
      "file_extension": ".py",
      "mimetype": "text/x-python",
      "name": "python",
      "nbconvert_exporter": "python",
      "pygments_lexer": "ipython3",
      "version": "3.8.0"
    }
  },
  "nbformat": 4,
  "nbformat_minor": 0
}