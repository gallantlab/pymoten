{
  "cells": [
    {
      "cell_type": "code",
      "execution_count": null,
      "metadata": {
        "collapsed": false
      },
      "outputs": [],
      "source": [
        "%matplotlib inline"
      ]
    },
    {
      "cell_type": "markdown",
      "metadata": {},
      "source": [
        "\n#  Image coordinates\n\n\nDescription of the image coordinates used to define the motion-energy filters.\n\nCoordinates are specified as (vertical, horizontal).\n\n* (0,0): top-left\n* (1,0): bottom-left\n* (0,aspect_ratio): top-right\n* (1,aspect_ratio): bottom-right\n"
      ]
    },
    {
      "cell_type": "markdown",
      "metadata": {},
      "source": [
        "1:1 square aspect ratio\n#######################\n\n\n\n"
      ]
    },
    {
      "cell_type": "code",
      "execution_count": null,
      "metadata": {
        "collapsed": false
      },
      "outputs": [],
      "source": [
        "import moten\npyramid = moten.get_default_pyramid(vhsize=(100,100), fps=24)"
      ]
    },
    {
      "cell_type": "markdown",
      "metadata": {},
      "source": [
        "The vertical and horizontal positions of each filter are stored as ``centerv`` and ``centerh``, respectively, in the filter dictionary:\n\n"
      ]
    },
    {
      "cell_type": "code",
      "execution_count": null,
      "metadata": {
        "collapsed": false
      },
      "outputs": [],
      "source": [
        "from pprint import pprint\nexample_filter = pyramid.filters[200].copy()\npprint((example_filter['centerv'], example_filter['centerh']))"
      ]
    },
    {
      "cell_type": "markdown",
      "metadata": {},
      "source": [
        "This is what the spatial components of this filter look like. (Note that we will only visualize the cosine component in the rest of this example).\n\n\n"
      ]
    },
    {
      "cell_type": "code",
      "execution_count": null,
      "metadata": {
        "collapsed": false
      },
      "outputs": [],
      "source": [
        "import numpy as np\nimport matplotlib.pyplot as plt\nssin, scos = pyramid.get_filter_spatial_quadrature(example_filter)\nfig, axes = plt.subplots(ncols=2, sharex=True, sharey=True)\n_ = axes[0].imshow(ssin, vmin=-1, vmax=1)\n_ = axes[1].imshow(scos, vmin=-1, vmax=1)"
      ]
    },
    {
      "cell_type": "markdown",
      "metadata": {},
      "source": [
        "We can move this filter to different positions in the image. Each filter has the\nparameters ``centerh`` and ``centerv``. When both are zero, the filter is located at the top left corner of the image. To move the filter to different positions, all we need to do is update the ``centerh`` and ``centerv`` parameters in the filter dictionary.\n\nThe position parameters are defined in terms of percentages of height. Below, we define 4 new positions located at a 20% distance from the top, bottom, left and right.\n\n\n"
      ]
    },
    {
      "cell_type": "code",
      "execution_count": null,
      "metadata": {
        "collapsed": false
      },
      "outputs": [],
      "source": [
        "vh_positions = [(0.2, 0.2), # top left\n                (0.2, 0.8), # top right\n                (0.8, 0.2), # bottom left\n                (0.8, 0.8), # bottom right\n                ]\n\nfig, axes = plt.subplots(nrows=2, ncols=2, sharex=True, sharey=True)\nfor idx, (vpos, hpos) in enumerate(vh_positions):\n    axidx = np.unravel_index(idx, axes.shape)\n    ax = axes[axidx]\n\n    # Here we update the position of the filter\n    modified_filter = example_filter.copy()\n    modified_filter['centerv'] = vpos\n    modified_filter['centerh'] = hpos\n\n    # Show the filter\n    ssin, scos = pyramid.get_filter_spatial_quadrature(modified_filter)\n    ax.imshow(scos, vmin=-1, vmax=1.0)\n\n    # Label its position\n    vsize = pyramid.definition['vdim']\n    ax.text(hpos*vsize, vpos*vsize, '+', va='center', ha='center', fontsize=15)\n    ax.text(hpos*vsize, vpos*vsize, (vpos, round(hpos,2)),\n            va='bottom', ha='left', rotation=45)\n    ax.set_xticks([20, 40, 60, 80])\n    ax.set_yticks([20, 40, 60, 80])\n    ax.grid(True)\n\n_ = fig.suptitle('1:1 square image')"
      ]
    },
    {
      "cell_type": "markdown",
      "metadata": {},
      "source": [
        "16:9 aspect ratio\n#################\n\nIn the example above, the width and height of the image is the same (100x100 pixels). For most videos, this is not the case. Videos typically have a width/height aspect ratio of 4:3 (e.g. 800x600) or 16:9 (e.g. 1920x1080). Below, we define a pyramid with a 16:9 aspect ratio.\n\n\n"
      ]
    },
    {
      "cell_type": "code",
      "execution_count": null,
      "metadata": {
        "collapsed": false
      },
      "outputs": [],
      "source": [
        "pyramid = moten.get_default_pyramid(vhsize=(576 , 1024), fps=24)\nvsize = pyramid.definition['vdim']"
      ]
    },
    {
      "cell_type": "markdown",
      "metadata": {},
      "source": [
        "We update the aspect ratio of the example filter to match the new pyramid.\n\n"
      ]
    },
    {
      "cell_type": "code",
      "execution_count": null,
      "metadata": {
        "collapsed": false
      },
      "outputs": [],
      "source": [
        "aspect_ratio = pyramid.definition['aspect_ratio']\nassert np.allclose(aspect_ratio, 16/9)\nexample_filter['aspect_ratio'] = aspect_ratio"
      ]
    },
    {
      "cell_type": "markdown",
      "metadata": {},
      "source": [
        "This 16:9 aspect ratio means that the right-most point of the image is `(16/9)*height`. In order to position filters at the desired 20% and 80% horizontal positions, we need to scale the horizontal dimension by the aspect ratio:\n\n\n"
      ]
    },
    {
      "cell_type": "code",
      "execution_count": null,
      "metadata": {
        "collapsed": false
      },
      "outputs": [],
      "source": [
        "vh_positions = [(0.2, aspect_ratio*0.2), # top left\n                (0.2, aspect_ratio*0.8), # top right\n                (0.8, aspect_ratio*0.2), # bottom left\n                (0.8, aspect_ratio*0.8), # bottom right\n                ]"
      ]
    },
    {
      "cell_type": "markdown",
      "metadata": {},
      "source": [
        "Now, we can plot the filters at the desired positions using the same code:\n\n"
      ]
    },
    {
      "cell_type": "code",
      "execution_count": null,
      "metadata": {
        "collapsed": false
      },
      "outputs": [],
      "source": [
        "fig, axes = plt.subplots(nrows=2, ncols=2, sharex=True, sharey=True)\nfor idx, (vpos, hpos) in enumerate(vh_positions):\n    axidx = np.unravel_index(idx, axes.shape)\n    ax = axes[axidx]\n\n    modified_filter = example_filter.copy()\n    modified_filter['centerv'] = vpos\n    modified_filter['centerh'] = hpos\n\n    ssin, scos = pyramid.get_filter_spatial_quadrature(modified_filter)\n    ax.imshow(scos, vmin=-1, vmax=1.0)\n\n    vsize = pyramid.definition['vdim']\n    ax.text(hpos*vsize, vpos*vsize, '+', va='center', ha='center', fontsize=15)\n    ax.text(hpos*vsize, vpos*vsize, (vpos, round(hpos,2)), va='bottom', ha='left', rotation=45)\n\n_ = fig.suptitle('16:9 image')\n\n\n# sphinx_gallery_thumbnail_number = 2"
      ]
    }
  ],
  "metadata": {
    "kernelspec": {
      "display_name": "Python 3",
      "language": "python",
      "name": "python3"
    },
    "language_info": {
      "codemirror_mode": {
        "name": "ipython",
        "version": 3
      },
      "file_extension": ".py",
      "mimetype": "text/x-python",
      "name": "python",
      "nbconvert_exporter": "python",
      "pygments_lexer": "ipython3",
      "version": "3.7.1"
    }
  },
  "nbformat": 4,
  "nbformat_minor": 0
}